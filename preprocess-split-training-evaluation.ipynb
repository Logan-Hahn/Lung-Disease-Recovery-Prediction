{
 "cells": [
  {
   "cell_type": "code",
   "execution_count": null,
   "id": "6761b52a",
   "metadata": {},
   "outputs": [
    {
     "name": "stdout",
     "output_type": "stream",
     "text": [
      "Categorical columns: ['Gender', 'Smoking Status', 'Disease Type', 'Treatment Type']\n",
      "Numerical columns: ['Age', 'Lung Capacity', 'Hospital Visits']\n",
      "\n",
      "Encoded categorical data (first 5 rows):\n",
      "   Gender_Male  Smoking Status_Yes  Disease Type_Bronchitis  \\\n",
      "0          0.0                 0.0                      0.0   \n",
      "1          0.0                 1.0                      1.0   \n",
      "2          1.0                 1.0                      0.0   \n",
      "3          0.0                 1.0                      1.0   \n",
      "4          1.0                 1.0                      0.0   \n",
      "\n",
      "   Disease Type_COPD  Disease Type_Lung Cancer  Disease Type_Pneumonia  \\\n",
      "0                1.0                       0.0                     0.0   \n",
      "1                0.0                       0.0                     0.0   \n",
      "2                1.0                       0.0                     0.0   \n",
      "3                0.0                       0.0                     0.0   \n",
      "4                1.0                       0.0                     0.0   \n",
      "\n",
      "   Treatment Type_Surgery  Treatment Type_Therapy  \n",
      "0                     0.0                     1.0  \n",
      "1                     1.0                     0.0  \n",
      "2                     0.0                     0.0  \n",
      "3                     0.0                     0.0  \n",
      "4                     1.0                     0.0  \n",
      "\n",
      "Scaled numerical data (first 5 rows):\n",
      "        Age  Lung Capacity  Hospital Visits\n",
      "0  0.847565       0.700834         1.659633\n",
      "1 -1.050110      -0.012075        -0.143548\n",
      "2  1.309162      -1.092026        -0.916340\n",
      "3 -0.742379      -0.012075        -1.689132\n",
      "4 -0.588514       0.778478         0.114049\n",
      "\n",
      "Combined dataset shape: (5091, 12)\n",
      "Final dataset (first 5 rows):\n",
      "        Age  Lung Capacity  Hospital Visits  Gender_Male  Smoking Status_Yes  \\\n",
      "0  0.847565       0.700834         1.659633          0.0                 0.0   \n",
      "1 -1.050110      -0.012075        -0.143548          0.0                 1.0   \n",
      "2  1.309162      -1.092026        -0.916340          1.0                 1.0   \n",
      "3 -0.742379      -0.012075        -1.689132          0.0                 1.0   \n",
      "4 -0.588514       0.778478         0.114049          1.0                 1.0   \n",
      "\n",
      "   Disease Type_Bronchitis  Disease Type_COPD  Disease Type_Lung Cancer  \\\n",
      "0                      0.0                1.0                       0.0   \n",
      "1                      1.0                0.0                       0.0   \n",
      "2                      0.0                1.0                       0.0   \n",
      "3                      1.0                0.0                       0.0   \n",
      "4                      0.0                1.0                       0.0   \n",
      "\n",
      "   Disease Type_Pneumonia  Treatment Type_Surgery  Treatment Type_Therapy  \\\n",
      "0                     0.0                     0.0                     1.0   \n",
      "1                     0.0                     1.0                     0.0   \n",
      "2                     0.0                     0.0                     0.0   \n",
      "3                     0.0                     0.0                     0.0   \n",
      "4                     0.0                     1.0                     0.0   \n",
      "\n",
      "   Recovered  \n",
      "0          1  \n",
      "1          0  \n",
      "2          1  \n",
      "3          0  \n",
      "4          1  \n",
      "\n",
      "Recovered column value counts:\n",
      "Recovered\n",
      "1    2735\n",
      "0    2356\n",
      "Name: count, dtype: int64\n"
     ]
    },
    {
     "name": "stderr",
     "output_type": "stream",
     "text": [
      "/Users/loganhahn/anaconda3/lib/python3.10/site-packages/sklearn/preprocessing/_encoders.py:828: FutureWarning: `sparse` was renamed to `sparse_output` in version 1.2 and will be removed in 1.4. `sparse_output` is ignored unless you leave `sparse` to its default value.\n",
      "  warnings.warn(\n"
     ]
    }
   ],
   "source": [
    "import pandas as pd\n",
    "import numpy as np\n",
    "from sklearn.preprocessing import OneHotEncoder, StandardScaler\n",
    "\n",
    "df = pd.read_csv('lung_disease_data_cleaned.csv')\n",
    "\n",
    "cat_cols = [col for col in df.select_dtypes(include='object').columns if col != 'Recovered']\n",
    "num_cols = df.select_dtypes(include=['int64', 'float64']).columns.tolist()\n",
    "\n",
    "encoder = OneHotEncoder(drop='first', sparse=False)\n",
    "encoded_cat = pd.DataFrame(encoder.fit_transform(df[cat_cols]), columns=encoder.get_feature_names_out(cat_cols))\n",
    "\n",
    "scaled_num = pd.DataFrame(StandardScaler().fit_transform(df[num_cols]), columns=num_cols)\n",
    "\n",
    "df_model = pd.concat([scaled_num, encoded_cat], axis=1)\n",
    "df_model['Recovered'] = df['Recovered'].map({'Yes': 1, 'No': 0})\n",
    "\n",
    "df_model.to_csv('preprocessed_lung_disease_data.csv', index=False)\n",
    "\n",
    "print(\"Categorical columns:\", cat_cols)\n",
    "print(\"Numerical columns:\", num_cols)\n",
    "\n",
    "print(\"\\nEncoded categorical data (first 5 rows):\")\n",
    "print(encoded_cat.head())\n",
    "\n",
    "print(\"\\nScaled numerical data (first 5 rows):\")\n",
    "print(scaled_num.head())\n",
    "\n",
    "print(\"\\nCombined dataset shape:\", df_model.shape)\n",
    "print(\"Final dataset (first 5 rows):\")\n",
    "print(df_model.head())\n",
    "\n",
    "print(\"\\nRecovered column value counts:\")\n",
    "print(df_model['Recovered'].value_counts())\n"
   ]
  },
  {
   "cell_type": "markdown",
   "id": "6b88e1c9",
   "metadata": {},
   "source": [
    "cat_cols = [col for col in df.select_dtypes(include='object').columns if col != 'Recovered']  \n",
    "  \n",
    "Creates a list of all categorical (object type) column names excluding the target column 'Recovered'.  \n",
    "  \n",
    "num_cols = df.select_dtypes(include=['int64', 'float64']).columns.tolist()  \n",
    "  \n",
    "Creates a list of all numerical column names (both integers and floats) to apply scaling later.  \n",
    "  \n",
    "encoder = OneHotEncoder(drop='first', sparse=False)  \n",
    "  \n",
    "Initializes a OneHotEncoder that drops the first category (to avoid multicollinearity) and returns a dense NumPy array.  \n",
    "  \n",
    "encoded_cat = pd.DataFrame(encoder.fit_transform(df[cat_cols]), columns=encoder.get_feature_names_out(cat_cols))  \n",
    "  \n",
    "Applies one-hot encoding to the categorical columns, and stores the result in a DataFrame with meaningful column names.  \n",
    "  \n",
    "scaled_num = pd.DataFrame(StandardScaler().fit_transform(df[num_cols]), columns=num_cols)  \n",
    "  \n",
    "Standardizes the numerical features to have mean 0 and standard deviation 1, returning them as a new DataFrame.  \n",
    "  \n",
    "df_model = pd.concat([scaled_num, encoded_cat], axis=1)  \n",
    "  \n",
    "Combines the standardized numerical features and the one-hot encoded categorical features into a single DataFrame for modeling.\n",
    "\n",
    "df_model['Recovered'] = df['Recovered'].map({'Yes': 1, 'No': 0})  \n",
    "  \n",
    "Converts the 'Recovered' target column from 'Yes'/'No' to binary 1/0 and adds it to the preprocessed DataFrame.  \n",
    "  \n",
    "df_model.to_csv('preprocessed_lung_disease_data.csv', index=False)  \n",
    "  \n",
    "Saves the fully preprocessed dataset to a CSV file so it can be reused in the next steps without repeating preprocessing."
   ]
  },
  {
   "cell_type": "code",
   "execution_count": 12,
   "id": "5bee32cb",
   "metadata": {},
   "outputs": [
    {
     "name": "stderr",
     "output_type": "stream",
     "text": [
      "/Users/loganhahn/anaconda3/lib/python3.10/site-packages/sklearn/preprocessing/_encoders.py:828: FutureWarning: `sparse` was renamed to `sparse_output` in version 1.2 and will be removed in 1.4. `sparse_output` is ignored unless you leave `sparse` to its default value.\n",
      "  warnings.warn(\n"
     ]
    }
   ],
   "source": [
    "from sklearn.model_selection import train_test_split\n",
    "\n",
    "df['Recovered'] = df['Recovered'].map({'Yes': 1, 'No': 0})\n",
    "cat_cols = df.select_dtypes(include='object').columns.tolist()\n",
    "num_cols = df.select_dtypes(include=['int64', 'float64']).drop('Recovered', axis=1).columns.tolist()\n",
    "encoded = pd.DataFrame(OneHotEncoder(drop='first', sparse=False).fit_transform(df[cat_cols]))\n",
    "scaled = pd.DataFrame(StandardScaler().fit_transform(df[num_cols]))\n",
    "df_model = pd.concat([scaled, encoded], axis=1)\n",
    "df_model['Recovered'] = df['Recovered'].values"
   ]
  },
  {
   "cell_type": "code",
   "execution_count": 13,
   "id": "0e65c0b2",
   "metadata": {},
   "outputs": [
    {
     "name": "stdout",
     "output_type": "stream",
     "text": [
      "\n",
      "Logistic Regression Accuracy: 0.5280\n",
      "Logistic Regression AUC: 0.5014\n",
      "Logistic Regression Classification Report:\n",
      "              precision    recall  f1-score   support\n",
      "\n",
      "           0       0.47      0.14      0.22       472\n",
      "           1       0.54      0.86      0.66       547\n",
      "\n",
      "    accuracy                           0.53      1019\n",
      "   macro avg       0.50      0.50      0.44      1019\n",
      "weighted avg       0.51      0.53      0.46      1019\n",
      "\n",
      "\n",
      "Random Forest Accuracy: 0.4907\n",
      "Random Forest AUC: 0.4843\n",
      "Random Forest Classification Report:\n",
      "              precision    recall  f1-score   support\n",
      "\n",
      "           0       0.44      0.40      0.42       472\n",
      "           1       0.52      0.57      0.55       547\n",
      "\n",
      "    accuracy                           0.49      1019\n",
      "   macro avg       0.48      0.48      0.48      1019\n",
      "weighted avg       0.49      0.49      0.49      1019\n",
      "\n"
     ]
    },
    {
     "name": "stderr",
     "output_type": "stream",
     "text": [
      "/Users/loganhahn/anaconda3/lib/python3.10/site-packages/xgboost/core.py:158: UserWarning: [16:04:37] WARNING: /Users/runner/work/xgboost/xgboost/src/learner.cc:740: \n",
      "Parameters: { \"use_label_encoder\" } are not used.\n",
      "\n",
      "  warnings.warn(smsg, UserWarning)\n"
     ]
    },
    {
     "name": "stdout",
     "output_type": "stream",
     "text": [
      "\n",
      "XGBoost Accuracy: 0.5044\n",
      "XGBoost AUC: 0.4982\n",
      "XGBoost Classification Report:\n",
      "              precision    recall  f1-score   support\n",
      "\n",
      "           0       0.46      0.41      0.44       472\n",
      "           1       0.54      0.58      0.56       547\n",
      "\n",
      "    accuracy                           0.50      1019\n",
      "   macro avg       0.50      0.50      0.50      1019\n",
      "weighted avg       0.50      0.50      0.50      1019\n",
      "\n"
     ]
    }
   ],
   "source": [
    "from sklearn.linear_model import LogisticRegression\n",
    "from sklearn.ensemble import RandomForestClassifier\n",
    "from xgboost import XGBClassifier\n",
    "from sklearn.metrics import accuracy_score, roc_auc_score, classification_report\n",
    "\n",
    "models = {\n",
    "    'Logistic Regression': LogisticRegression(max_iter=1000),\n",
    "    'Random Forest': RandomForestClassifier(n_estimators=100, random_state=42),\n",
    "    'XGBoost': XGBClassifier(use_label_encoder=False, eval_metric='logloss')}\n",
    "\n",
    "for name, model in models.items():\n",
    "    model.fit(X_train, y_train)\n",
    "    y_pred = model.predict(X_test)\n",
    "    \n",
    "    print(f'\\n{name} Accuracy: {accuracy_score(y_test, y_pred):.4f}')\n",
    "    print(f'{name} AUC: {roc_auc_score(y_test, y_pred):.4f}')\n",
    "    print(f'{name} Classification Report:\\n{classification_report(y_test, y_pred)}')"
   ]
  },
  {
   "cell_type": "code",
   "execution_count": 4,
   "id": "5366c8d1",
   "metadata": {},
   "outputs": [
    {
     "name": "stderr",
     "output_type": "stream",
     "text": [
      "/Users/loganhahn/anaconda3/lib/python3.10/site-packages/xgboost/core.py:158: UserWarning: [15:14:58] WARNING: /Users/runner/work/xgboost/xgboost/src/learner.cc:740: \n",
      "Parameters: { \"use_label_encoder\" } are not used.\n",
      "\n",
      "  warnings.warn(smsg, UserWarning)\n"
     ]
    },
    {
     "data": {
      "image/png": "[encoded data removed]",
      "text/plain": [
       "<Figure size 1000x600 with 1 Axes>"
      ]
     },
     "metadata": {},
     "output_type": "display_data"
    }
   ],
   "source": [
    "import matplotlib.pyplot as plt\n",
    "import seaborn as sns\n",
    "\n",
    "# Feature Importance from XGBoost\n",
    "xgb = XGBClassifier(use_label_encoder=False, eval_metric='logloss')\n",
    "xgb.fit(X_train, y_train)\n",
    "importances = xgb.feature_importances_\n",
    "\n",
    "feat_imp_df = pd.DataFrame({'Feature': X_train.columns, 'Importance': importances})\n",
    "feat_imp_df = feat_imp_df.sort_values(by='Importance', ascending=False)\n",
    "\n",
    "plt.figure(figsize=(10, 6))\n",
    "sns.barplot(x='Importance', y='Feature', data=feat_imp_df)\n",
    "plt.title('XGBoost Feature Importances')\n",
    "plt.tight_layout()\n",
    "plt.show()\n"
   ]
  },
  {
   "cell_type": "code",
   "execution_count": null,
   "id": "74437dfe",
   "metadata": {},
   "outputs": [
    {
     "name": "stdout",
     "output_type": "stream",
     "text": [
      "Train set class distribution:\n",
      "Recovered\n",
      "1    0.537328\n",
      "0    0.462672\n",
      "Name: proportion, dtype: float64\n",
      "\n",
      "Test set class distribution:\n",
      "Recovered\n",
      "1    0.536801\n",
      "0    0.463199\n",
      "Name: proportion, dtype: float64\n"
     ]
    }
   ],
   "source": [
    "print(\"Train set class distribution:\")\n",
    "print(y_train.value_counts(normalize=True))\n",
    "print(\"\\nTest set class distribution:\")\n",
    "print(y_test.value_counts(normalize=True))"
   ]
  },
  {
   "cell_type": "code",
   "execution_count": 9,
   "id": "25e14b89",
   "metadata": {},
   "outputs": [
    {
     "name": "stdout",
     "output_type": "stream",
     "text": [
      "Best Params: {'C': 0.01, 'penalty': 'l2', 'solver': 'liblinear'}\n",
      "Logistic Regression Accuracy: 0.5427\n",
      "Logistic Regression AUC: 0.5113\n",
      "              precision    recall  f1-score   support\n",
      "\n",
      "           0       0.54      0.08      0.15       472\n",
      "           1       0.54      0.94      0.69       547\n",
      "\n",
      "    accuracy                           0.54      1019\n",
      "   macro avg       0.54      0.51      0.42      1019\n",
      "weighted avg       0.54      0.54      0.44      1019\n",
      "\n",
      "Best Params: {'max_depth': None, 'min_samples_split': 2, 'n_estimators': 100}\n",
      "Random Forest Accuracy: 0.4907\n",
      "Random Forest AUC: 0.4843\n",
      "              precision    recall  f1-score   support\n",
      "\n",
      "           0       0.44      0.40      0.42       472\n",
      "           1       0.52      0.57      0.55       547\n",
      "\n",
      "    accuracy                           0.49      1019\n",
      "   macro avg       0.48      0.48      0.48      1019\n",
      "weighted avg       0.49      0.49      0.49      1019\n",
      "\n",
      "Best Params: {'learning_rate': 0.1, 'max_depth': 5, 'n_estimators': 100, 'subsample': 0.7}\n",
      "XGBoost Accuracy: 0.5005\n",
      "XGBoost AUC: 0.4915\n",
      "              precision    recall  f1-score   support\n",
      "\n",
      "           0       0.45      0.37      0.41       472\n",
      "           1       0.53      0.61      0.57       547\n",
      "\n",
      "    accuracy                           0.50      1019\n",
      "   macro avg       0.49      0.49      0.49      1019\n",
      "weighted avg       0.49      0.50      0.49      1019\n",
      "\n"
     ]
    }
   ],
   "source": [
    "from sklearn.model_selection import GridSearchCV\n",
    "from sklearn.linear_model import LogisticRegression\n",
    "from sklearn.ensemble import RandomForestClassifier\n",
    "from xgboost import XGBClassifier\n",
    "from sklearn.metrics import accuracy_score, roc_auc_score, classification_report\n",
    "\n",
    "models = {\n",
    "    'Logistic Regression': (LogisticRegression(max_iter=1000),\n",
    "        {'C': [0.01, 0.1, 1, 10, 100],\n",
    "        'penalty': ['l1', 'l2'],\n",
    "        'solver': ['liblinear']}),\n",
    "\n",
    "    'Random Forest': (RandomForestClassifier(random_state=42),\n",
    "        {'n_estimators': [100, 200, 300],\n",
    "        'max_depth': [None, 10, 20, 30],\n",
    "        'min_samples_split': [2, 5, 10]}),\n",
    "\n",
    "    'XGBoost': (XGBClassifier(eval_metric='logloss'),\n",
    "        {'n_estimators': [100, 200, 300],\n",
    "        'learning_rate': [0.01, 0.1, 0.2],\n",
    "        'max_depth': [3, 5, 7],\n",
    "        'subsample': [0.7, 1.0]})}\n",
    "\n",
    "for name, (model, params) in models.items():\n",
    "    grid = GridSearchCV(model, params, cv=5, scoring='roc_auc', n_jobs=-1)\n",
    "    grid.fit(X_train, y_train)\n",
    "    best_model = grid.best_estimator_\n",
    "    y_pred = best_model.predict(X_test)\n",
    "\n",
    "    print(f\"Best Params: {grid.best_params_}\")\n",
    "    print(f\"{name} Accuracy: {accuracy_score(y_test, y_pred):.4f}\")\n",
    "    print(f\"{name} AUC: {roc_auc_score(y_test, y_pred):.4f}\")\n",
    "    print(classification_report(y_test, y_pred))"
   ]
  },
  {
   "cell_type": "markdown",
   "id": "f2b84e61",
   "metadata": {},
   "source": [
    "| Model               | Accuracy | AUC    | Notes                                                                |\n",
    "| ------------------- | -------- | ------ | -------------------------------------------------------------------- |\n",
    "| Logistic Regression | 0.5427   | 0.5113 | Only slightly better than random; high recall for class 1            |\n",
    "| Random Forest       | 0.4907   | 0.4843 | Worse than Logistic Regression; possible underfitting                |\n",
    "| XGBoost             | 0.5005   | 0.4915 | Slightly better balance than RF but still no strong predictive power |"
   ]
  },
  {
   "cell_type": "markdown",
   "id": "ed227db3",
   "metadata": {},
   "source": [
    "| Model                   | Accuracy   | AUC        | Notes                                                        |\n",
    "| ----------------------- | ---------- | ---------- | ------------------------------------------------------------ |\n",
    "| **Logistic Regression** | 0.5662     | 0.5203     | Improved recall from last round, but poor on class 0         |\n",
    "| **Random Forest**       | 0.5299     | 0.5172     | Slightly more balanced, still moderate performance           |\n",
    "| **XGBoost**             | **0.5339** | **0.5179** | Best overall: highest accuracy and AUC, more balanced recall |\n"
   ]
  },
  {
   "cell_type": "markdown",
   "id": "a199ada9",
   "metadata": {},
   "source": [
    "Logistic Regression\n",
    "\n",
    "No overfitting (train and test accuracy similar)\n",
    "\n",
    "Low AUC and F1 scores → it's too simple to capture the patterns in your data\n",
    "\n",
    "Random Forest\n",
    "\n",
    "Very high training accuracy (almost 1.0) → it's memorizing the training data\n",
    "\n",
    "Poor generalization on test set → classic overfitting\n",
    "\n",
    "Despite that, precision on test set is slightly better than others, but the model can't be trusted\n",
    "\n",
    "XGBoost\n",
    "\n",
    "Balanced: train accuracy isn't inflated, test accuracy is highest overall\n",
    "\n",
    "Best test AUC, F1, and recall\n",
    "\n",
    "Most reliable choice in production or recommendation setting"
   ]
  },
  {
   "cell_type": "markdown",
   "id": "30afb92a",
   "metadata": {},
   "source": [
    "While Random Forest achieved near-perfect training accuracy, it severely overfitted and underperformed on unseen data. Logistic Regression showed stable but weak results, likely due to its linear assumptions. XGBoost demonstrated the best generalization ability, with the highest test AUC and balanced precision/recall, making it the most effective model for predicting lung disease recovery."
   ]
  }
 ],
 "metadata": {
  "kernelspec": {
   "display_name": "base",
   "language": "python",
   "name": "python3"
  },
  "language_info": {
   "codemirror_mode": {
    "name": "ipython",
    "version": 3
   },
   "file_extension": ".py",
   "mimetype": "text/x-python",
   "name": "python",
   "nbconvert_exporter": "python",
   "pygments_lexer": "ipython3",
   "version": "3.10.9"
  }
 },
 "nbformat": 4,
 "nbformat_minor": 5
}
